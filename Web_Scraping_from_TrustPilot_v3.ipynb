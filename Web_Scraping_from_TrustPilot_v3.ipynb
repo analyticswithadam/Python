{
  "nbformat": 4,
  "nbformat_minor": 0,
  "metadata": {
    "colab": {
      "provenance": [],
      "authorship_tag": "ABX9TyPFEh0jBKCiDU/XQdJefJ9Y",
      "include_colab_link": true
    },
    "kernelspec": {
      "name": "python3",
      "display_name": "Python 3"
    },
    "language_info": {
      "name": "python"
    }
  },
  "cells": [
    {
      "cell_type": "markdown",
      "metadata": {
        "id": "view-in-github",
        "colab_type": "text"
      },
      "source": [
        "<a href=\"https://colab.research.google.com/github/analyticswithadam/Python/blob/main/Web_Scraping_from_TrustPilot_v3.ipynb\" target=\"_parent\"><img src=\"https://colab.research.google.com/assets/colab-badge.svg\" alt=\"Open In Colab\"/></a>"
      ]
    },
    {
      "cell_type": "code",
      "execution_count": 1,
      "metadata": {
        "id": "JP6PLQnwDvlC",
        "outputId": "c0ac0987-1d81-4e6b-bb88-050e270b0904",
        "colab": {
          "base_uri": "https://localhost:8080/"
        }
      },
      "outputs": [
        {
          "output_type": "stream",
          "name": "stdout",
          "text": [
            "Scraping: https://www.trustpilot.com/review/pepsi.com?page=1\n",
            "Scraping: https://www.trustpilot.com/review/pepsi.com?page=2\n",
            "Scraping: https://www.trustpilot.com/review/pepsi.com?page=3\n",
            "Scraping: https://www.trustpilot.com/review/pepsi.com?page=4\n",
            "Scraping: https://www.trustpilot.com/review/pepsi.com?page=5\n",
            "Scraping: https://www.trustpilot.com/review/pepsi.com?page=6\n",
            "                                           Review Text   Review Date Rating\n",
            "0                                                 None   4 hours ago   None\n",
            "1                                                 None  Feb 27, 2025   None\n",
            "2                                                 None  Feb 15, 2025   None\n",
            "3                                                 None  Jan 28, 2025   None\n",
            "4    I am from the new generation of Pepsi drinkers...   4 hours ago      5\n",
            "..                                                 ...           ...    ...\n",
            "139  In the past, lots of people know Pepsi was my ...   Sep 8, 2023      1\n",
            "140  Absolutely horrible, I would give it zero star...   Sep 8, 2023      1\n",
            "141  I have been drinking pepsi for 20 years or mor...   Sep 7, 2023      1\n",
            "142  Used to drink regular pepsi over cola and it w...   Sep 7, 2023      1\n",
            "143  Having drank pepsi for over 40 years, this new...   Sep 6, 2023      1\n",
            "\n",
            "[144 rows x 3 columns]\n"
          ]
        }
      ],
      "source": [
        "import requests\n",
        "from bs4 import BeautifulSoup\n",
        "import pandas as pd\n",
        "from time import sleep\n",
        "\n",
        "def extract_reviews(page_url):\n",
        "    headers = {\"User-Agent\": \"Mozilla/5.0\"}  # Mimic a browser\n",
        "    response = requests.get(page_url, headers=headers)\n",
        "    soup = BeautifulSoup(response.content, 'html.parser')\n",
        "\n",
        "    # Find all articles that represent individual reviews.\n",
        "    review_articles = soup.find_all('article', attrs={\"data-service-review-card-paper\": True})\n",
        "\n",
        "    reviews_data = []\n",
        "    for article in review_articles:\n",
        "        review_text = None\n",
        "        review_date = None\n",
        "        rating = None\n",
        "\n",
        "        # Extract the full review text from the <p> tag with the review text attribute.\n",
        "        text_tag = article.find('p', attrs={\"data-service-review-text-typography\": True})\n",
        "        if text_tag:\n",
        "            review_text = text_tag.get_text(strip=True)\n",
        "\n",
        "        # Extract the review date from the first <time> element in the article.\n",
        "        time_tag = article.find('time')\n",
        "        if time_tag:\n",
        "            review_date = time_tag.get_text(strip=True)\n",
        "\n",
        "        # Extract the rating from the parent container using the attribute.\n",
        "        header_div = article.find('div', attrs={\"data-service-review-rating\": True})\n",
        "        if header_div:\n",
        "            rating = header_div.get(\"data-service-review-rating\")\n",
        "\n",
        "        reviews_data.append({\n",
        "            \"Review Text\": review_text,\n",
        "            \"Review Date\": review_date,\n",
        "            \"Rating\": rating\n",
        "        })\n",
        "\n",
        "    return reviews_data\n",
        "\n",
        "def extract_all_reviews(base_url, from_page=1, to_page=6):\n",
        "    all_reviews = []\n",
        "    for page in range(from_page, to_page + 1):\n",
        "        page_url = f\"{base_url}?page={page}\"\n",
        "        print(f\"Scraping: {page_url}\")\n",
        "        all_reviews.extend(extract_reviews(page_url))\n",
        "        sleep(1)  # Pause to avoid throttling\n",
        "    return pd.DataFrame(all_reviews)\n",
        "\n",
        "# Example usage:\n",
        "base_url = \"https://www.trustpilot.com/review/pepsi.com\"\n",
        "df_reviews = extract_all_reviews(base_url, from_page=1, to_page=6)\n",
        "print(df_reviews)\n",
        "\n"
      ]
    },
    {
      "cell_type": "code",
      "source": [
        "df_reviews['Review Text'][4]"
      ],
      "metadata": {
        "colab": {
          "base_uri": "https://localhost:8080/",
          "height": 70
        },
        "id": "_soYMTNmEDNF",
        "outputId": "12c1da4b-0177-48ce-94b6-3b662f4e1e49"
      },
      "execution_count": 2,
      "outputs": [
        {
          "output_type": "execute_result",
          "data": {
            "text/plain": [
              "'I am from the new generation of Pepsi drinkers. Now in senior drinkers Pepsi. I spend about $40.00 a month on your company product. I am laying here now with my last Pepsi ever. I need to stop and now your company taking your business position. I will no longer buy any Pepsi products or anything they invest in.'"
            ],
            "application/vnd.google.colaboratory.intrinsic+json": {
              "type": "string"
            }
          },
          "metadata": {},
          "execution_count": 2
        }
      ]
    },
    {
      "cell_type": "code",
      "source": [
        "from google.colab import files\n",
        "# Convert the DataFrame to a CSV file and download it\n",
        "df_reviews.to_csv('reviews.csv', index=False)\n",
        "files.download('reviews.csv')"
      ],
      "metadata": {
        "colab": {
          "base_uri": "https://localhost:8080/",
          "height": 17
        },
        "id": "XfeWnNaSVd02",
        "outputId": "57ee1466-84da-46ea-ccc7-195383ba487a"
      },
      "execution_count": 5,
      "outputs": [
        {
          "output_type": "display_data",
          "data": {
            "text/plain": [
              "<IPython.core.display.Javascript object>"
            ],
            "application/javascript": [
              "\n",
              "    async function download(id, filename, size) {\n",
              "      if (!google.colab.kernel.accessAllowed) {\n",
              "        return;\n",
              "      }\n",
              "      const div = document.createElement('div');\n",
              "      const label = document.createElement('label');\n",
              "      label.textContent = `Downloading \"${filename}\": `;\n",
              "      div.appendChild(label);\n",
              "      const progress = document.createElement('progress');\n",
              "      progress.max = size;\n",
              "      div.appendChild(progress);\n",
              "      document.body.appendChild(div);\n",
              "\n",
              "      const buffers = [];\n",
              "      let downloaded = 0;\n",
              "\n",
              "      const channel = await google.colab.kernel.comms.open(id);\n",
              "      // Send a message to notify the kernel that we're ready.\n",
              "      channel.send({})\n",
              "\n",
              "      for await (const message of channel.messages) {\n",
              "        // Send a message to notify the kernel that we're ready.\n",
              "        channel.send({})\n",
              "        if (message.buffers) {\n",
              "          for (const buffer of message.buffers) {\n",
              "            buffers.push(buffer);\n",
              "            downloaded += buffer.byteLength;\n",
              "            progress.value = downloaded;\n",
              "          }\n",
              "        }\n",
              "      }\n",
              "      const blob = new Blob(buffers, {type: 'application/binary'});\n",
              "      const a = document.createElement('a');\n",
              "      a.href = window.URL.createObjectURL(blob);\n",
              "      a.download = filename;\n",
              "      div.appendChild(a);\n",
              "      a.click();\n",
              "      div.remove();\n",
              "    }\n",
              "  "
            ]
          },
          "metadata": {}
        },
        {
          "output_type": "display_data",
          "data": {
            "text/plain": [
              "<IPython.core.display.Javascript object>"
            ],
            "application/javascript": [
              "download(\"download_4623a6cd-f377-4f66-831d-6c41e608aad1\", \"reviews.csv\", 40456)"
            ]
          },
          "metadata": {}
        }
      ]
    }
  ]
}